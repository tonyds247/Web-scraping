{
 "cells": [
  {
   "cell_type": "code",
   "execution_count": 1,
   "id": "371bc5bd",
   "metadata": {},
   "outputs": [],
   "source": [
    "from selenium import webdriver\n",
    "from selenium.webdriver.support.ui import WebDriverWait\n",
    "from selenium.webdriver.support import expected_conditions as EC\n",
    "from selenium.webdriver.common.by import By\n",
    "from selenium.webdriver.common.keys import Keys\n",
    "import pandas as pd\n",
    "import re \n",
    "import warnings"
   ]
  },
  {
   "cell_type": "code",
   "execution_count": 2,
   "id": "15fdc127",
   "metadata": {},
   "outputs": [],
   "source": [
    "warnings.filterwarnings('ignore')"
   ]
  },
  {
   "cell_type": "code",
   "execution_count": 3,
   "id": "01418abc",
   "metadata": {},
   "outputs": [],
   "source": [
    "driver = webdriver.Chrome()"
   ]
  },
  {
   "cell_type": "code",
   "execution_count": 4,
   "id": "24acb7eb",
   "metadata": {},
   "outputs": [],
   "source": [
    "driver.get('https://tygiadola.net/LichSuGiaVang?date=17-04-2022')"
   ]
  },
  {
   "cell_type": "code",
   "execution_count": 14,
   "id": "9a7128d8",
   "metadata": {},
   "outputs": [],
   "source": [
    "ngay = driver.find_element(by = By.ID, value='date')\n",
    "thongtingiavang = driver.find_elements(by = By.XPATH, \n",
    "                                      value=\"//div[@class='table-responsive']/table/tbody/tr\")\n",
    "giavang = {'Date': [], 'Type': [], 'Purchasing Price': [], 'Selling Price': []}\n",
    "if len(thongtingiavang) > 0:\n",
    "    for thongtin in thongtingiavang:\n",
    "        if thongtin.get_attribute('class') =='':\n",
    "            chitiets = thongtin.find_elements(by=By.TAG_NAME, value=\"td\")\n",
    "            if chitiets[0].text !='':\n",
    "                giavang['Date'].append(ngay.get_attribute('value'))\n",
    "                giavang['Type'].append(chitiets[0].text)\n",
    "                Chitiet2 = thongtin.find_elements(by=By.CSS_SELECTOR, value = 'td.text-right')\n",
    "#                 giamua = driver.execute_script(\"return arguments[0].firstChild.textcontent\", \n",
    "#                                                chitiets[1])\n",
    "#                 giavang['giamua'].append(giamua)\n",
    "                giavang['Purchasing Price'].append(Chitiet2[0].text.replace(',','').replace('-',''))\n",
    "              \n",
    "#                 giaban = driver.execute_script(\"return arguments[0].firstChild.textcontent\", \n",
    "#                                                chitiets[2])\n",
    "#                 giavang['giaban'].append(giaban)\n",
    "                giavang['Selling Price'].append(Chitiet2[1].text.replace(',','').replace('-',''))"
   ]
  },
  {
   "cell_type": "code",
   "execution_count": 15,
   "id": "950f07b1",
   "metadata": {},
   "outputs": [
    {
     "data": {
      "text/html": [
       "<div>\n",
       "<style scoped>\n",
       "    .dataframe tbody tr th:only-of-type {\n",
       "        vertical-align: middle;\n",
       "    }\n",
       "\n",
       "    .dataframe tbody tr th {\n",
       "        vertical-align: top;\n",
       "    }\n",
       "\n",
       "    .dataframe thead th {\n",
       "        text-align: right;\n",
       "    }\n",
       "</style>\n",
       "<table border=\"1\" class=\"dataframe\">\n",
       "  <thead>\n",
       "    <tr style=\"text-align: right;\">\n",
       "      <th></th>\n",
       "      <th>Date</th>\n",
       "      <th>Type</th>\n",
       "      <th>Purchasing Price</th>\n",
       "      <th>Selling Price</th>\n",
       "    </tr>\n",
       "  </thead>\n",
       "  <tbody>\n",
       "    <tr>\n",
       "      <th>0</th>\n",
       "      <td>17-04-2022</td>\n",
       "      <td>SJC HCM 1-10L</td>\n",
       "      <td>692000</td>\n",
       "      <td>698500</td>\n",
       "    </tr>\n",
       "    <tr>\n",
       "      <th>1</th>\n",
       "      <td>17-04-2022</td>\n",
       "      <td>Nhẫn 9999 1c-&gt;5c</td>\n",
       "      <td>559500</td>\n",
       "      <td>568500</td>\n",
       "    </tr>\n",
       "    <tr>\n",
       "      <th>2</th>\n",
       "      <td>17-04-2022</td>\n",
       "      <td>Vàng nữ trang 9999</td>\n",
       "      <td>556500</td>\n",
       "      <td>564500</td>\n",
       "    </tr>\n",
       "    <tr>\n",
       "      <th>3</th>\n",
       "      <td>17-04-2022</td>\n",
       "      <td>Vàng nữ trang 24K</td>\n",
       "      <td>545910</td>\n",
       "      <td>558910</td>\n",
       "    </tr>\n",
       "    <tr>\n",
       "      <th>4</th>\n",
       "      <td>17-04-2022</td>\n",
       "      <td>Vàng nữ trang 18K</td>\n",
       "      <td>404920</td>\n",
       "      <td>424920</td>\n",
       "    </tr>\n",
       "  </tbody>\n",
       "</table>\n",
       "</div>"
      ],
      "text/plain": [
       "         Date                Type Purchasing Price Selling Price\n",
       "0  17-04-2022       SJC HCM 1-10L           692000        698500\n",
       "1  17-04-2022    Nhẫn 9999 1c->5c           559500        568500\n",
       "2  17-04-2022  Vàng nữ trang 9999           556500        564500\n",
       "3  17-04-2022   Vàng nữ trang 24K           545910        558910\n",
       "4  17-04-2022   Vàng nữ trang 18K           404920        424920"
      ]
     },
     "execution_count": 15,
     "metadata": {},
     "output_type": "execute_result"
    }
   ],
   "source": [
    "df_giavang = pd.DataFrame(giavang)\n",
    "df_giavang.head()\n"
   ]
  },
  {
   "cell_type": "code",
   "execution_count": 17,
   "id": "983ab58d",
   "metadata": {},
   "outputs": [
    {
     "data": {
      "text/plain": [
       "0       698500\n",
       "1       568500\n",
       "2       564500\n",
       "3       558910\n",
       "4       424920\n",
       "5       330640\n",
       "6       236920\n",
       "7       698700\n",
       "8       698700\n",
       "9       698700\n",
       "10      698700\n",
       "11      698700\n",
       "12      698800\n",
       "13      698500\n",
       "14      698500\n",
       "15      698500\n",
       "16      699000\n",
       "17      698500\n",
       "18      696500\n",
       "19      697000\n",
       "20      698000\n",
       "21    69750100\n",
       "22     6975050\n",
       "23     6975050\n",
       "24      695000\n",
       "25      695000\n",
       "26      696500\n",
       "Name: Selling Price, dtype: object"
      ]
     },
     "execution_count": 17,
     "metadata": {},
     "output_type": "execute_result"
    }
   ],
   "source": [
    "df_giavang['Selling Price']"
   ]
  },
  {
   "cell_type": "code",
   "execution_count": null,
   "id": "2b702604",
   "metadata": {},
   "outputs": [],
   "source": []
  }
 ],
 "metadata": {
  "kernelspec": {
   "display_name": "Python 3 (ipykernel)",
   "language": "python",
   "name": "python3"
  },
  "language_info": {
   "codemirror_mode": {
    "name": "ipython",
    "version": 3
   },
   "file_extension": ".py",
   "mimetype": "text/x-python",
   "name": "python",
   "nbconvert_exporter": "python",
   "pygments_lexer": "ipython3",
   "version": "3.8.8"
  }
 },
 "nbformat": 4,
 "nbformat_minor": 5
}
